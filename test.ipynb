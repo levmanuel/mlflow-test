{
 "cells": [
  {
   "cell_type": "markdown",
   "metadata": {},
   "source": [
    "# OpenAI API"
   ]
  },
  {
   "cell_type": "code",
   "execution_count": 1,
   "metadata": {},
   "outputs": [
    {
     "data": {
      "application/vnd.jupyter.widget-view+json": {
       "model_id": "f41b64285f6f456f80219a1ef1a730b5",
       "version_major": 2,
       "version_minor": 0
      },
      "text/plain": [
       "Downloading artifacts:   0%|          | 0/7 [00:00<?, ?it/s]"
      ]
     },
     "metadata": {},
     "output_type": "display_data"
    },
    {
     "name": "stdout",
     "output_type": "stream",
     "text": [
      "Accuracy: 1.0\n",
      "F1 Score: 1.0\n",
      "MLflow Tracking URI: file:///Users/mlev/Documents/DATA/mlflow/mlruns\n"
     ]
    },
    {
     "data": {
      "image/png": "[encoded data removed]",
      "text/plain": [
       "<Figure size 1000x600 with 1 Axes>"
      ]
     },
     "metadata": {},
     "output_type": "display_data"
    }
   ],
   "source": [
    "import mlflow\n",
    "import mlflow.sklearn\n",
    "from sklearn.datasets import load_iris\n",
    "from sklearn.model_selection import train_test_split\n",
    "from sklearn.ensemble import RandomForestClassifier\n",
    "from sklearn.metrics import accuracy_score, f1_score\n",
    "import numpy as np\n",
    "\n",
    "# Charger le dataset Iris\n",
    "iris = load_iris()\n",
    "X, y = iris.data, iris.target\n",
    "\n",
    "# Diviser les données en ensembles d'entraînement et de test\n",
    "X_train, X_test, y_train, y_test = train_test_split(X, y, test_size=0.3, random_state=42)\n",
    "\n",
    "# Définir les paramètres du modèle\n",
    "n_estimators = 100\n",
    "max_depth = 5\n",
    "\n",
    "# Commencer une expérience MLflow\n",
    "mlflow.set_experiment(\"Iris Classification\")\n",
    "\n",
    "with mlflow.start_run():\n",
    "    # Enregistrer les paramètres\n",
    "    mlflow.log_param(\"n_estimators\", n_estimators)\n",
    "    mlflow.log_param(\"max_depth\", max_depth)\n",
    "    \n",
    "    # Créer et entraîner le modèle\n",
    "    rf = RandomForestClassifier(n_estimators=n_estimators, max_depth=max_depth, random_state=42)\n",
    "    rf.fit(X_train, y_train)\n",
    "    \n",
    "    # Faire des prédictions\n",
    "    y_pred = rf.predict(X_test)\n",
    "    \n",
    "    # Calculer les métriques\n",
    "    accuracy = accuracy_score(y_test, y_pred)\n",
    "    f1 = f1_score(y_test, y_pred, average='weighted')\n",
    "    \n",
    "    # Enregistrer les métriques\n",
    "    mlflow.log_metric(\"accuracy\", accuracy)\n",
    "    mlflow.log_metric(\"f1_score\", f1)\n",
    "    \n",
    "    # Créer un exemple d'entrée\n",
    "    input_example = X_train[0].reshape(1, -1)\n",
    "    \n",
    "    # Enregistrer le modèle avec une signature et un exemple d'entrée\n",
    "    signature = mlflow.models.infer_signature(X_train, y_pred)\n",
    "    mlflow.sklearn.log_model(rf, \"random_forest_model\", signature=signature, input_example=input_example)\n",
    "    \n",
    "    print(f\"Accuracy: {accuracy}\")\n",
    "    print(f\"F1 Score: {f1}\")\n",
    "    \n",
    "    # Enregistrer un graphique (facultatif)\n",
    "    import matplotlib.pyplot as plt\n",
    "    plt.figure(figsize=(10, 6))\n",
    "    plt.bar(['Accuracy', 'F1 Score'], [accuracy, f1])\n",
    "    plt.title('Model Performance')\n",
    "    plt.ylim(0, 1)\n",
    "    mlflow.log_artifact(\"performance.png\")\n",
    "\n",
    "print(f\"MLflow Tracking URI: {mlflow.get_tracking_uri()}\")"
   ]
  },
  {
   "cell_type": "code",
   "execution_count": 2,
   "metadata": {},
   "outputs": [
    {
     "data": {
      "application/vnd.jupyter.widget-view+json": {
       "model_id": "019b93df2a674cbb915d094453fc1730",
       "version_major": 2,
       "version_minor": 0
      },
      "text/plain": [
       "Downloading artifacts:   0%|          | 0/7 [00:00<?, ?it/s]"
      ]
     },
     "metadata": {},
     "output_type": "display_data"
    },
    {
     "name": "stdout",
     "output_type": "stream",
     "text": [
      "Accuracy: 1.0\n",
      "F1 Score: 1.0\n",
      "MLflow Tracking URI: file:///Users/mlev/Documents/DATA/mlflow/mlruns\n"
     ]
    }
   ],
   "source": [
    "import mlflow\n",
    "import mlflow.sklearn\n",
    "from sklearn.model_selection import train_test_split\n",
    "from sklearn.metrics import accuracy_score, f1_score\n",
    "from sklearn.datasets import make_classification\n",
    "from sklearn.neighbors import KNeighborsClassifier\n",
    "import numpy as np\n",
    "\n",
    "X, y = make_classification(random_state=42, n_features=5)\n",
    "\n",
    "# Diviser les données en ensembles d'entraînement et de test\n",
    "X_train, X_test, y_train, y_test = train_test_split(X, y, test_size=0.3, random_state=42)\n",
    "\n",
    "# Définir les paramètres du modèle\n",
    "n_neighbors = 3\n",
    "leaf_size = 30\n",
    "\n",
    "# Commencer une expérience MLflow\n",
    "mlflow.set_experiment(\"Random Classification with KNN\")\n",
    "\n",
    "with mlflow.start_run():\n",
    "    # Enregistrer les paramètres\n",
    "    mlflow.log_param(\"n_neighbors\", n_neighbors)\n",
    "    mlflow.log_param(\"leaf_size\", leaf_size)\n",
    "    \n",
    "    # Créer et entraîner le modèle\n",
    "    knn = KNeighborsClassifier(n_neighbors = n_neighbors, leaf_size = leaf_size)\n",
    "    knn.fit(X_train, y_train)\n",
    "    \n",
    "    # Faire des prédictions\n",
    "    y_pred = knn.predict(X_test)\n",
    "    \n",
    "    # Calculer les métriques\n",
    "    accuracy = accuracy_score(y_test, y_pred)\n",
    "    f1 = f1_score(y_test, y_pred, average='weighted')\n",
    "    \n",
    "    # Enregistrer les métriques\n",
    "    mlflow.log_metric(\"accuracy\", accuracy)\n",
    "    mlflow.log_metric(\"f1_score\", f1)\n",
    "    \n",
    "    # Créer un exemple d'entrée\n",
    "    input_example = X_train[0].reshape(1, -1)\n",
    "    \n",
    "    # Enregistrer le modèle avec une signature et un exemple d'entrée\n",
    "    signature = mlflow.models.infer_signature(X_train, y_pred)\n",
    "    mlflow.sklearn.log_model(knn, \"KNN\", signature=signature, input_example=input_example)\n",
    "    \n",
    "    print(f\"Accuracy: {accuracy}\")\n",
    "    print(f\"F1 Score: {f1}\")\n",
    "\n",
    "print(f\"MLflow Tracking URI: {mlflow.get_tracking_uri()}\")"
   ]
  }
 ],
 "metadata": {
  "kernelspec": {
   "display_name": "Python 3",
   "language": "python",
   "name": "python3"
  },
  "language_info": {
   "codemirror_mode": {
    "name": "ipython",
    "version": 3
   },
   "file_extension": ".py",
   "mimetype": "text/x-python",
   "name": "python",
   "nbconvert_exporter": "python",
   "pygments_lexer": "ipython3",
   "version": "3.11.1"
  }
 },
 "nbformat": 4,
 "nbformat_minor": 2
}
